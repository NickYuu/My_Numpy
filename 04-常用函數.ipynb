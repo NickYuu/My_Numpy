{
 "cells": [
  {
   "cell_type": "code",
   "execution_count": 10,
   "metadata": {
    "collapsed": true
   },
   "outputs": [
    {
     "data": {
      "text/plain": [
       "array([0, 1, 2])"
      ]
     },
     "execution_count": 10,
     "metadata": {},
     "output_type": "execute_result"
    }
   ],
   "source": [
    "import numpy as np\n",
    "\n",
    "a = np.arange(3)\n",
    "a"
   ]
  },
  {
   "cell_type": "code",
   "execution_count": 11,
   "metadata": {},
   "outputs": [
    {
     "data": {
      "text/plain": [
       "array([ 1.        ,  2.71828183,  7.3890561 ])"
      ]
     },
     "execution_count": 11,
     "metadata": {},
     "output_type": "execute_result"
    }
   ],
   "source": [
    "np.exp(a)"
   ]
  },
  {
   "cell_type": "code",
   "execution_count": 12,
   "metadata": {},
   "outputs": [
    {
     "data": {
      "text/plain": [
       "array([ 0.        ,  1.        ,  1.41421356])"
      ]
     },
     "execution_count": 12,
     "metadata": {},
     "output_type": "execute_result"
    }
   ],
   "source": [
    "np.sqrt(a)"
   ]
  },
  {
   "cell_type": "code",
   "execution_count": 13,
   "metadata": {},
   "outputs": [
    {
     "data": {
      "text/plain": [
       "array([0, 1, 4], dtype=int32)"
      ]
     },
     "execution_count": 13,
     "metadata": {},
     "output_type": "execute_result"
    }
   ],
   "source": [
    "np.square(a)"
   ]
  },
  {
   "cell_type": "code",
   "execution_count": 20,
   "metadata": {},
   "outputs": [
    {
     "data": {
      "text/plain": [
       "array([[ 4.,  4.,  9.,  0.],\n       [ 1.,  8.,  8.,  5.],\n       [ 6.,  7.,  8.,  7.]])"
      ]
     },
     "execution_count": 20,
     "metadata": {},
     "output_type": "execute_result"
    }
   ],
   "source": [
    "a = np.floor(10*np.random.random((3, 4)))\n",
    "a"
   ]
  },
  {
   "cell_type": "code",
   "execution_count": 22,
   "metadata": {},
   "outputs": [
    {
     "data": {
      "text/plain": [
       "(3, 4)"
      ]
     },
     "execution_count": 22,
     "metadata": {},
     "output_type": "execute_result"
    }
   ],
   "source": [
    "a.shape"
   ]
  },
  {
   "cell_type": "code",
   "execution_count": 24,
   "metadata": {},
   "outputs": [
    {
     "data": {
      "text/plain": [
       "array([ 4.,  4.,  9.,  0.,  1.,  8.,  8.,  5.,  6.,  7.,  8.,  7.])"
      ]
     },
     "execution_count": 24,
     "metadata": {},
     "output_type": "execute_result"
    }
   ],
   "source": [
    "a.ravel()"
   ]
  },
  {
   "cell_type": "code",
   "execution_count": 28,
   "metadata": {},
   "outputs": [
    {
     "data": {
      "text/plain": [
       "array([[ 4.,  4.],\n       [ 9.,  0.],\n       [ 1.,  8.],\n       [ 8.,  5.],\n       [ 6.,  7.],\n       [ 8.,  7.]])"
      ]
     },
     "execution_count": 28,
     "metadata": {},
     "output_type": "execute_result"
    }
   ],
   "source": [
    "a.shape = (6, 2)\n",
    "a"
   ]
  },
  {
   "cell_type": "code",
   "execution_count": 30,
   "metadata": {},
   "outputs": [
    {
     "data": {
      "text/plain": [
       "array([[ 4.,  9.,  1.,  8.,  6.,  8.],\n       [ 4.,  0.,  8.,  5.,  7.,  7.]])"
      ]
     },
     "execution_count": 30,
     "metadata": {},
     "output_type": "execute_result"
    }
   ],
   "source": [
    "a.T"
   ]
  },
  {
   "cell_type": "code",
   "execution_count": 33,
   "metadata": {},
   "outputs": [
    {
     "data": {
      "text/plain": [
       "array([[ 4.,  4.],\n       [ 9.,  0.],\n       [ 1.,  8.],\n       [ 8.,  5.],\n       [ 6.,  7.],\n       [ 8.,  7.]])"
      ]
     },
     "execution_count": 33,
     "metadata": {},
     "output_type": "execute_result"
    }
   ],
   "source": [
    "a.resize(6, 2)\n",
    "a"
   ]
  },
  {
   "cell_type": "code",
   "execution_count": 40,
   "metadata": {},
   "outputs": [
    {
     "name": "stdout",
     "output_type": "stream",
     "text": [
      "-----a------\n[[ 9.  2.]\n [ 1.  6.]]\n-----b------\n[[ 1.  7.]\n [ 4.  2.]]\n---vstack(a, b)----\n[[ 9.  2.]\n [ 1.  6.]\n [ 1.  7.]\n [ 4.  2.]]\n---hstack(a, b)----\n[[ 9.  2.  1.  7.]\n [ 1.  6.  4.  2.]]\n"
     ]
    }
   ],
   "source": [
    "# 兩矩陣拼接\n",
    "a = np.floor(10*np.random.random((2, 2)))\n",
    "b = np.floor(10*np.random.random((2, 2)))\n",
    "print('-----a------')\n",
    "print(a)\n",
    "print('-----b------')\n",
    "print(b)\n",
    "print('---vstack(a, b)----')\n",
    "print(np.vstack((a, b)))\n",
    "print('---hstack(a, b)----')\n",
    "print(np.hstack((a, b)))"
   ]
  },
  {
   "cell_type": "code",
   "execution_count": 47,
   "metadata": {},
   "outputs": [
    {
     "name": "stdout",
     "output_type": "stream",
     "text": [
      "[[ 8.  3.  4.  7.  8.  6.  1.  7.  2.  7.  5.  3.]\n [ 4.  1.  7.  9.  4.  7.  1.  0.  4.  0.  2.  6.]]\n----hsplit(a, 3)----\n[array([[ 8.,  3.,  4.,  7.],\n       [ 4.,  1.,  7.,  9.]]), array([[ 8.,  6.,  1.,  7.],\n       [ 4.,  7.,  1.,  0.]]), array([[ 2.,  7.,  5.,  3.],\n       [ 4.,  0.,  2.,  6.]])]\n----hsplit(a, (3, 6))----\n[array([[ 8.,  3.,  4.],\n       [ 4.,  1.,  7.]]), array([[ 7.,  8.,  6.],\n       [ 9.,  4.,  7.]]), array([[ 1.,  7.,  2.,  7.,  5.,  3.],\n       [ 1.,  0.,  4.,  0.,  2.,  6.]])]\n---a---\n[[ 8.  8.]\n [ 5.  1.]\n [ 4.  5.]\n [ 6.  1.]\n [ 4.  5.]\n [ 7.  1.]\n [ 7.  3.]\n [ 5.  8.]\n [ 7.  3.]\n [ 9.  9.]\n [ 7.  4.]\n [ 3.  1.]]\n----vsplit(a, 3)----\n[array([[ 8.,  8.],\n       [ 5.,  1.],\n       [ 4.,  5.],\n       [ 6.,  1.]]), array([[ 4.,  5.],\n       [ 7.,  1.],\n       [ 7.,  3.],\n       [ 5.,  8.]]), array([[ 7.,  3.],\n       [ 9.,  9.],\n       [ 7.,  4.],\n       [ 3.,  1.]])]\n"
     ]
    }
   ],
   "source": [
    "# 切分\n",
    "a = np.floor(10 * np.random.random((2, 12)))\n",
    "print(a)\n",
    "print('----hsplit(a, 3)----')\n",
    "print(np.hsplit(a, 3))\n",
    "print('----hsplit(a, (3, 6))----')\n",
    "print(np.hsplit(a, (3, 6)))\n",
    "a = np.floor(10*np.random.random((12, 2)))\n",
    "print('---a---')\n",
    "print(a)\n",
    "print('----vsplit(a, 3)----')\n",
    "print(np.vsplit(a, 3))"
   ]
  },
  {
   "cell_type": "code",
   "execution_count": 51,
   "metadata": {},
   "outputs": [
    {
     "name": "stdout",
     "output_type": "stream",
     "text": [
      "----b is a?----\nTrue\nb shape = 3, 4  a shape =?\n(3, 4)\n"
     ]
    }
   ],
   "source": [
    "# np 陣列是 call by ref\n",
    "a = np.arange(12)\n",
    "b = a\n",
    "print('----b is a?----')\n",
    "print(b is a)\n",
    "print('--b shape = 3, 4  a shape =?--')\n",
    "b.shape = 3, 4\n",
    "print(a.shape)"
   ]
  },
  {
   "cell_type": "code",
   "execution_count": 56,
   "metadata": {},
   "outputs": [
    {
     "name": "stdout",
     "output_type": "stream",
     "text": [
      "----c is a?----\nFalse\n--c[0, 4] = 999--\n[[  0   1   2   3]\n [999   5   6   7]\n [  8   9  10  11]]\n"
     ]
    }
   ],
   "source": [
    "# 淺拷貝\n",
    "c = a.view()\n",
    "print('----c is a?----')\n",
    "print(c is a)\n",
    "c.shape = 2, 6\n",
    "c[0, 4] = 999\n",
    "print('--c[0, 4] = 999--')\n",
    "print(a)"
   ]
  },
  {
   "cell_type": "code",
   "execution_count": 58,
   "metadata": {},
   "outputs": [
    {
     "name": "stdout",
     "output_type": "stream",
     "text": [
      "d is a?\nFalse\n[[  0   1   2   3]\n [999   5   6   7]\n [  8   9  10  11]]\n"
     ]
    }
   ],
   "source": [
    "# 深拷貝\n",
    "d = a.copy()\n",
    "print(\"d is a?\")\n",
    "print(d is a)\n",
    "d[0, 0] = 99999\n",
    "print(a)"
   ]
  }
 ],
 "metadata": {
  "kernelspec": {
   "display_name": "Python 2",
   "language": "python",
   "name": "python2"
  },
  "language_info": {
   "codemirror_mode": {
    "name": "ipython",
    "version": 2.0
   },
   "file_extension": ".py",
   "mimetype": "text/x-python",
   "name": "python",
   "nbconvert_exporter": "python",
   "pygments_lexer": "ipython2",
   "version": "2.7.6"
  }
 },
 "nbformat": 4,
 "nbformat_minor": 0
}